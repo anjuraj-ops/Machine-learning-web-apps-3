{
 "cells": [
  {
   "cell_type": "markdown",
   "metadata": {},
   "source": [
    "# Predict Auto Insurance Fraud"
   ]
  },
  {
   "cell_type": "code",
   "execution_count": 1,
   "metadata": {},
   "outputs": [],
   "source": [
    "import pickle\n",
    "import numpy as np\n",
    "import streamlit as st\n",
    "import pandas as pd"
   ]
  },
  {
   "cell_type": "code",
   "execution_count": 2,
   "metadata": {},
   "outputs": [],
   "source": [
    "# load the model from disk\n",
    "loaded_model = pickle.load(open('Streamlit_Autoinsurancefraud1.sav', 'rb'))"
   ]
  },
  {
   "cell_type": "code",
   "execution_count": 3,
   "metadata": {},
   "outputs": [
    {
     "data": {
      "text/plain": [
       "<streamlit.DeltaGenerator.DeltaGenerator at 0x240a772c348>"
      ]
     },
     "execution_count": 3,
     "metadata": {},
     "output_type": "execute_result"
    }
   ],
   "source": [
    "# Creating the Titles and Image\n",
    "\n",
    "st.title(\"Predict Auto Insurance fraud claim\")\n",
    "st.header(\"Predicting if a claim requested for an auto insurance policy is genuine or fraud\")"
   ]
  },
  {
   "cell_type": "code",
   "execution_count": 4,
   "metadata": {},
   "outputs": [],
   "source": [
    "# create the dropdown menus for input fields\n",
    "\n",
    "DropDown1 = pd.DataFrame({'insured_hobbies': ['chess', 'cross-fit','other'],\n",
    "                          'policy_deductable': [500,1000,2000],\n",
    "                          'police_report_available': ['YES','NO','other']})\n",
    "DropDown2 = pd.DataFrame({'collision_type': ['Rear Collision', 'Side Collision', 'Front Collision','other'],\n",
    "                          'incident_severity': ['Minor Damage','Total Loss','Major Damage','Trivial Damage'],\n",
    "                          'incident_type': ['Multi-vehicle Collision','Single Vehicle Collision','Vehicle Theft','Parked Car']})\n",
    "DropDown3 = pd.DataFrame({'authorities_contacted': ['Police', 'Fire', 'Ambulance','Other','None']})\n",
    "DropDown4 = pd.DataFrame({'umbrella_limit': [0,2000000,3000000,4000000,5000000,6000000,7000000,8000000,9000000,10000000]})                        \n"
   ]
  },
  {
   "cell_type": "code",
   "execution_count": 5,
   "metadata": {},
   "outputs": [],
   "source": [
    "# take user inputs\n",
    "\n",
    "insured_hobbies = st.selectbox('Hobbies',DropDown1['insured_hobbies'].unique())\n",
    "policy_deductable = st.selectbox('Policy deductable',DropDown1['policy_deductable'].unique())\n",
    "police_report_available = st.selectbox('Is Police Report available ?',DropDown1['police_report_available'].unique())\n",
    "collision_type = st.selectbox('Type of collision',DropDown2['collision_type'].unique())\n",
    "incident_severity = st.selectbox('Severity of incident',DropDown2['incident_severity'].unique())\n",
    "incident_type = st.selectbox('Type of incident',DropDown2['incident_type'].unique())\n",
    "authorities_contacted = st.selectbox('Type of authorities contacted',DropDown3['authorities_contacted'].unique())\n",
    "umbrella_limit = st.selectbox('Select umbrella limit',DropDown4['umbrella_limit'].unique())\n",
    "months_as_customer = st.number_input('Duration stayed with the insurer: Select any number between 0 - 500')\n",
    "vehicle_claim = st.number_input('Amount requested: Select any value between 0 - 80000')\n",
    "number_of_vehicles_involved = st.slider(\"Number of vehicles involved\", 1, 4)\n",
    "bodily_injuries = st.slider(\"Number of injuries\", 0, 2)\n",
    "witnesses = st.slider(\"Number of witnesses\", 0, 3)\n",
    "\n",
    "# dealing with input passed by user in the app and converting them back to type understandable by the machine learning algorithm\n",
    "\n",
    "# insured_hobbies\n",
    "if insured_hobbies == 'chess':\n",
    "    hobby = 0\n",
    "else:\n",
    "    if insured_hobbies == 'cross-fit':\n",
    "        hobby = 1\n",
    "    else:\n",
    "        hobby = 2\n",
    "        \n",
    "# police_report_available\n",
    "if police_report_available == 'other':\n",
    "    report = 0\n",
    "else:\n",
    "    if police_report_available == 'NO':\n",
    "        report = 1\n",
    "    else:\n",
    "        report = 2\n",
    "        \n",
    "# collision_type\n",
    "if collision_type == 'other':\n",
    "    collision = 0\n",
    "else:\n",
    "    if collision_type == 'Front Collision':\n",
    "        collision = 1\n",
    "    else:\n",
    "        if collision_type == 'Rear Collision':\n",
    "            collision = 2     \n",
    "        else:\n",
    "            collision = 3\n",
    "\n",
    "# incident_severity\n",
    "if incident_severity == 'Major Damage':\n",
    "    severity = 0\n",
    "else:\n",
    "    if incident_severity == 'Minor Damage':\n",
    "        severity = 1\n",
    "    else:\n",
    "        if incident_severity == 'Total Loss':\n",
    "            severity = 2     \n",
    "        else:\n",
    "            severity = 3\n",
    "        \n",
    "# incident_type\n",
    "if incident_type == 'Multi-vehicle Collision':\n",
    "    incident = 0\n",
    "else:\n",
    "    if incident_type == 'Parked Car':\n",
    "        incident = 1\n",
    "    else:\n",
    "        if incident_type == 'Single Vehicle Collision':\n",
    "            incident = 2     \n",
    "        else:\n",
    "            incident = 3\n",
    "        \n",
    "\n",
    "# authorities_contacted\n",
    "if authorities_contacted == 'Ambulance':\n",
    "    authorities = 0\n",
    "else:\n",
    "    if authorities_contacted == 'Fire':\n",
    "        authorities = 1\n",
    "    else:\n",
    "        if authorities_contacted == 'None':\n",
    "            authorities = 2 \n",
    "        else:\n",
    "            if authorities_contacted == 'Other':\n",
    "                authorities = 3     \n",
    "            else:\n",
    "                authorities = 4\n",
    "        "
   ]
  },
  {
   "cell_type": "code",
   "execution_count": 6,
   "metadata": {},
   "outputs": [
    {
     "data": {
      "text/plain": [
       "<streamlit.DeltaGenerator.DeltaGenerator at 0x240a772c348>"
      ]
     },
     "execution_count": 6,
     "metadata": {},
     "output_type": "execute_result"
    }
   ],
   "source": [
    "# store the inputs\n",
    "\n",
    "features = [umbrella_limit, hobby, policy_deductable, report, collision, severity, incident, authorities, months_as_customer,\n",
    "            vehicle_claim, number_of_vehicles_involved, bodily_injuries, witnesses]\n",
    "\n",
    "[6000000, 2, 2000, 1, 1, 0, 2, 4, 256.0, 50720.0, 1, 1, 2]\n",
    "\n",
    "# convert user inputs into an array for the model\n",
    "int_features = [int(x) for x in features]\n",
    "final_features = [np.array(int_features)]\n",
    "\n",
    "if st.button('Predict'):\n",
    "    prediction = loaded_model.predict(final_features)\n",
    "    st.balloons()\n",
    "    if round(prediction[0],2) == 1:\n",
    "        st.success('The claim reported is fraud.')\n",
    "    else:\n",
    "        st.success('The claim reported is genuine.')\n",
    "st.success(features)"
   ]
  },
  {
   "cell_type": "code",
   "execution_count": 7,
   "metadata": {},
   "outputs": [],
   "source": [
    "# Save in C folder as 'streamlitpredictautoinsurancefraud1' as python extension."
   ]
  }
 ],
 "metadata": {
  "kernelspec": {
   "display_name": "Python 3",
   "language": "python",
   "name": "python3"
  },
  "language_info": {
   "codemirror_mode": {
    "name": "ipython",
    "version": 3
   },
   "file_extension": ".py",
   "mimetype": "text/x-python",
   "name": "python",
   "nbconvert_exporter": "python",
   "pygments_lexer": "ipython3",
   "version": "3.7.6"
  }
 },
 "nbformat": 4,
 "nbformat_minor": 2
}
